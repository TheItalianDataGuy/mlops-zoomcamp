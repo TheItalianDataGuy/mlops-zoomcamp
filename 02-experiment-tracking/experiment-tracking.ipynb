{
 "cells": [
  {
   "cell_type": "markdown",
   "id": "a3f6d05b",
   "metadata": {},
   "source": [
    "# Q1. Install MLflow\n",
    "\n",
    "```bash\n",
    "conda create -n mlflow-env python=3.10\n",
    "conda activate mlflow-env\n",
    "pip install mlflow\n",
    "mlflow --version # mlflow, version 2.22.0\n",
    "```"
   ]
  },
  {
   "cell_type": "markdown",
   "id": "7bebdf3e",
   "metadata": {},
   "source": [
    "# Q2. Download and preprocess the data\n",
    "```bash\n",
    "python preprocess_data.py --raw_data_path /workspaces/mlops-zoomcamp/02-experiment-tracking/TAXI_DATA_FOLDER --dest_path ./output\n",
    "# There are 4 files in the output folder\n",
    "```"
   ]
  },
  {
   "cell_type": "markdown",
   "id": "50062678",
   "metadata": {},
   "source": [
    "# Q3. Train a model with autolog\n",
    "1. Modified the `train.py` file to include MLflow autologging and the function mlflow.start_run() to start a run.\n",
    "2. The `train.py` file is modified to mlflow.autolog() and:\n",
    "```python\n",
    "with mlflow.start_run():\n",
    "        rf = RandomForestRegressor(max_depth=10, random_state=0)\n",
    "        rf.fit(X_train, y_train)\n",
    "        y_pred = rf.predict(X_val)\n",
    "\n",
    "        rmse = root_mean_squared_error(y_val, y_pred)\n",
    "```\n",
    "Then:\n",
    "```bash\n",
    "python train.py --data_path ./output\n",
    "# The min_samples_split is set to 2.\n",
    "```"
   ]
  },
  {
   "cell_type": "markdown",
   "id": "1029600e",
   "metadata": {},
   "source": [
    "# Q4. Launch the tracking server locally\n",
    "```bash\n",
    "mlflow server \\\n",
    "    # where to store experiment metadata\n",
    "  --backend-store-uri sqlite:///mlflow.db \\ \n",
    "    # where to store artifacts\n",
    "  --default-artifact-root ./artifacts \n",
    "```"
   ]
  },
  {
   "cell_type": "markdown",
   "id": "1474d45a",
   "metadata": {},
   "source": [
    "# Q5. Tune model hyperparameters\n",
    "1. The `train.py` file is modified to include the following prompts:\n",
    "    ```python\n",
    "        def objective(params):\n",
    "        with mlflow.start_run(nested=True):\n",
    "            mlflow.set_tag(\"andy\", \"theitadatadude\")\n",
    "            rf = RandomForestRegressor(**params)\n",
    "            rf.fit(X_train, y_train)\n",
    "            y_pred = rf.predict(X_val)\n",
    "            rmse = root_mean_squared_error(y_val, y_pred)\n",
    "\n",
    "            mlflow.log_params(params)\n",
    "            mlflow.log_metric('rmse', rmse)\n",
    "\n",
    "            return {'loss': rmse, 'status': STATUS_OK}\n",
    "    ```\n",
    "Then:\n",
    "```bash\n",
    "python hpo.py\n",
    "# The RMSE is equal to 5.335419588556921\n",
    "```\n"
   ]
  },
  {
   "cell_type": "markdown",
   "id": "8fc6de99",
   "metadata": {},
   "source": [
    "# Q6. Promote the best model to the model registry\n",
    "\n",
    "1. Implemented the code\n",
    "```python\n",
    "    def run_register_model(data_path: str, top_n: int):\n",
    "\n",
    "    client = MlflowClient()\n",
    "\n",
    "    # Retrieve the top_n model runs and log the models\n",
    "    experiment = client.get_experiment_by_name(HPO_EXPERIMENT_NAME)\n",
    "    runs = client.search_runs(\n",
    "        experiment_ids=experiment.experiment_id,\n",
    "        run_view_type=ViewType.ACTIVE_ONLY,\n",
    "        max_results=top_n,\n",
    "        order_by=[\"metrics.rmse ASC\"]\n",
    "    )\n",
    "    for run in runs:\n",
    "        train_and_log_model(data_path=data_path, params=run.data.params)\n",
    "\n",
    "    # Select the model with the lowest test RMSE\n",
    "    experiment = client.get_experiment_by_name(EXPERIMENT_NAME)\n",
    "    best_runs = client.search_runs(\n",
    "        experiment_ids=experiment.experiment_id,\n",
    "        run_view_type=ViewType.ACTIVE_ONLY,\n",
    "        max_results=1,\n",
    "        order_by=[\"metrics.test_rmse ASC\"]\n",
    "    )\n",
    "\n",
    "    if best_runs:\n",
    "        best_run = best_runs[0]\n",
    "        best_run_id = best_run.info.run_id\n",
    "        model_uri = f\"runs:/{best_run_id}/model\"\n",
    "        model_name = \"RandomForestModel\"\n",
    "\n",
    "        # Register the best model\n",
    "        model_version = mlflow.register_model(model_uri=model_uri, name=model_name)\n",
    "        print(f\"Registered model version: {model_version.version} with run_id: {best_run_id}\")\n",
    "    else:\n",
    "    )\n",
    "```\n",
    "Then:\n",
    "```bash\n",
    "python register_model.py --data_path ./output --top_n 5\n",
    "# The RSME of the best model is 5.567408012462019\n",
    "\n",
    "```"
   ]
  }
 ],
 "metadata": {
  "kernelspec": {
   "display_name": "Python 3",
   "language": "python",
   "name": "python3"
  },
  "language_info": {
   "codemirror_mode": {
    "name": "ipython",
    "version": 3
   },
   "file_extension": ".py",
   "mimetype": "text/x-python",
   "name": "python",
   "nbconvert_exporter": "python",
   "pygments_lexer": "ipython3",
   "version": "3.10.16"
  }
 },
 "nbformat": 4,
 "nbformat_minor": 5
}
