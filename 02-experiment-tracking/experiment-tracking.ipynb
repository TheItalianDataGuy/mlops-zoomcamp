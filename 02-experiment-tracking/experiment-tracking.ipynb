{
 "cells": [
  {
   "cell_type": "markdown",
   "id": "a3f6d05b",
   "metadata": {},
   "source": [
    "# Q1. Install MLflow\n",
    "\n",
    "```bash\n",
    "conda create -n mlflow-env python=3.10\n",
    "conda activate mlflow-env\n",
    "pip install mlflow\n",
    "mlflow --version # mlflow, version 2.22.0\n",
    "```"
   ]
  },
  {
   "cell_type": "markdown",
   "id": "7bebdf3e",
   "metadata": {},
   "source": [
    "# Q2. Download and preprocess the data\n",
    "```bash\n",
    "python preprocess_data.py --raw_data_path /workspaces/mlops-zoomcamp/02-experiment-tracking/TAXI_DATA_FOLDER --dest_path ./output\n",
    "# There are 4 files in the output folder\n",
    "```"
   ]
  },
  {
   "cell_type": "markdown",
   "id": "50062678",
   "metadata": {},
   "source": [
    "# Q3. Train a model with autolog\n",
    "1. Modified the `train.py` file to include MLflow autologging and the function mlflow.start_run() to start a run.\n",
    "2. The `train.py` file is modified to include the following prompts:\n",
    "```bash\n",
    "python train.py --data_path ./output\n",
    "```\n"
   ]
  }
 ],
 "metadata": {
  "kernelspec": {
   "display_name": "Python 3",
   "language": "python",
   "name": "python3"
  },
  "language_info": {
   "codemirror_mode": {
    "name": "ipython",
    "version": 3
   },
   "file_extension": ".py",
   "mimetype": "text/x-python",
   "name": "python",
   "nbconvert_exporter": "python",
   "pygments_lexer": "ipython3",
   "version": "3.10.16"
  }
 },
 "nbformat": 4,
 "nbformat_minor": 5
}
