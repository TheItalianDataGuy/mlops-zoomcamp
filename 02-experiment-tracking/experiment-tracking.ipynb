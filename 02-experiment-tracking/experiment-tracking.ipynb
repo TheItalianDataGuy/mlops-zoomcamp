{
 "cells": [
  {
   "cell_type": "markdown",
   "id": "a3f6d05b",
   "metadata": {},
   "source": [
    "# Q1. Install MLflow\n",
    "\n",
    "```bash\n",
    "conda create -n mlflow-env python=3.10\n",
    "conda activate mlflow-env\n",
    "pip install mlflow\n",
    "mlflow --version # mlflow, version 2.22.0\n",
    "```"
   ]
  },
  {
   "cell_type": "markdown",
   "id": "7bebdf3e",
   "metadata": {},
   "source": [
    "# Q2. Download and preprocess the data\n",
    "```bash\n",
    "python preprocess_data.py --raw_data_path /workspaces/mlops-zoomcamp/02-experiment-tracking/TAXI_DATA_FOLDER --dest_path ./output\n"
   ]
  },
  {
   "cell_type": "code",
   "execution_count": null,
   "id": "713aa56a",
   "metadata": {
    "vscode": {
     "languageId": "plaintext"
    }
   },
   "outputs": [],
   "source": []
  }
 ],
 "metadata": {
  "language_info": {
   "name": "python"
  }
 },
 "nbformat": 4,
 "nbformat_minor": 5
}
